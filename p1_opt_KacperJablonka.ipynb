{
 "cells": [
  {
   "cell_type": "markdown",
   "id": "4b747c36",
   "metadata": {},
   "source": [
    "# Temat 1. Goofspiel (Game Of Pure Strategy)\n",
    "\n",
    "## Na czym polega Goofspiel?\n",
    "\n",
    "Goofspiel, czyli Gra Czystej Strategii (GOPS), to gra dla dwóch osób (przy naszej wersji). Wykorzystuje standardową talię 52 kart, z której odrzucane są wszystkie karty jednego koloru. Karty jednego koloru otrzymuje jeden gracz, karty drugiego koloru otrzymuje drugi gracz, a karty pozostałego koloru są tasowane i umieszczane zakryte na środku. Karty mają wartości od niskiej do wysokiej: as = 1, 2, 3, ..., 10, walet = 11, dama = 12, król = 13.\n",
    "\n",
    "Runda polega na odkryciu następnej karty z środkowej sterty i \"postawieniu\" na nią przez obu graczy, którzy wybierają jedną kartę, a następnie jednocześnie ją pokazują. Gracz, który pokaże kartę o wyższej wartości, wygrywa wartość odkrytej karty. Jeśli obaj gracze pokażą tę samą kartę, punkty są dzielone między nich. Te trzy karty są następnie odrzucane. Gra kończy się po 13 rundach, a zwycięzcą jest osoba, która zdobyła najwięcej punktów (do wygranej potrzeba 46 punktów lub więcej).\n",
    "\n",
    "Mechanika gry jest prosta, ale strategia już nie. Przykładowo, król jest odkrytą kartą w pierwszej rundzie. Załóżmy, że postawisz jeden (tzn. as). Kiedy odkrywasz swoją kartę, okazuje się, że twój przeciwnik postawił swojego króla, wygrywając 13 punktów. Cieszysz się z tego wyniku, bo teraz masz 12 dodatkowych punktów do \"stawki\", co powinno z nawiązką zrekompensować stracone 13 punktów. Jednak ryzykujesz stawiając tylko jeden: jeśli twój przeciwnik postawiłby dwa lub trzy, to wygrałby 13 punktów za niemal żadną cenę. Grając w grę, próbujesz przewidzieć ruchy przeciwnika, podczas gdy on próbuje przewidzieć twoje: zastanawiasz się nad takimi kwestiami jak \"mój przeciwnik prawdopodobnie zagra X, więc powinienem zagrać Y, ale on może to przewidzieć i zagrać Z, aby pokonać Y, więc może powinienem zagrać W. Chcemy spojrzeć na ten problem z wyższej perspektywy i obliczyć optymalne zagrania w rozumieniu teorii gier. \n",
    "\n",
    "## GOPS jako problem liniowy\n",
    "\n",
    "Moim zadaniem było przeformułowanie problemu z teorii gier na zagadnienie programowania liniowego i odpowiednie zaprogramowanie, by uzyskać rezultaty. Wykorzystałem metodę opisaną w *Rhoads, G. C.; Bartholdi, L. (2012). \"Computer Solution to the Game of Pure Strategy\". Games. 3 (4): 150–156.*\n",
    "\n",
    "Napisany program pozwala wygenerować strategię dla pierwszego ruchu, co było głównym celem zadania, jak również dla wszystkich możliwych podgier, co byłoby niezbędne, gdybyśmy chcieli przeprowadzić całą rozgrywkę przy użyciu optymalych strategii. \n",
    "\n",
    "Skupiłem się na przykładzie dla **N = 6**. Program działa dla dowolnego N, jednak dalsze obliczenia przekraczają możliwości platformy. "
   ]
  },
  {
   "cell_type": "markdown",
   "id": "854695dd",
   "metadata": {},
   "source": [
    "## Implementacja \n",
    "\n",
    "Kluczowe zadanie wykonuje funkcja *game_size_k()*, która jest odpowiedzialna za generowanie ostatecznych wyników. Do obliczenia wartości gier i optymalnych strategii wykorzystamy funkcję *game_value_and_strategy()*, która przyjmuje macierz wypłat zgodnie ze wzorem ze wspomnianego artykułu, następnie generuje problem liniowy, by obliczyć wartość gry, z czego jednocześnie otrzymujemy optymalne strategie. \n",
    "\n",
    "Skorzystamy jeszcze z funkcji pomocniczej *list_split()*, która przyjmuje listę, a następnie przekształca ją na format, który pozwala łatwo wygenerować obiekt *matrix* pakietu *SageMath*. "
   ]
  },
  {
   "cell_type": "code",
   "execution_count": 1,
   "id": "c43d55ff",
   "metadata": {},
   "outputs": [],
   "source": [
    "from itertools import combinations"
   ]
  },
  {
   "cell_type": "code",
   "execution_count": 2,
   "id": "e69b7c81",
   "metadata": {},
   "outputs": [],
   "source": [
    "import math\n",
    "\n",
    "def list_split(lista):\n",
    "     # sprawdzenie czy pierwiastek kwadratowy z długości listy jest liczbą całkowitą\n",
    "    if math.sqrt(len(lista)) % 1 == 0:\n",
    "        n = int(math.sqrt(len(lista)))  # obliczenie pierwiastka kwadratowego z długości listy\n",
    "        return [lista[i * n:(i + 1) * n] for i in range(n)]  # podzielenie listy na podlisty\n",
    "    else:\n",
    "        return \"Długość listy nie jest kwadratem liczby naturalnej.\""
   ]
  },
  {
   "cell_type": "code",
   "execution_count": 3,
   "id": "1422347c",
   "metadata": {},
   "outputs": [
    {
     "name": "stdout",
     "output_type": "stream",
     "text": [
      "[[1, 2, 3], [4, 5, 6], [7, 8, 9]]\n"
     ]
    },
    {
     "data": {
      "text/html": [
       "<html>\\(\\displaystyle \\left(\\begin{array}{rrr}\n",
       "1 & 2 & 3 \\\\\n",
       "4 & 5 & 6 \\\\\n",
       "7 & 8 & 9\n",
       "\\end{array}\\right)\\)</html>"
      ],
      "text/latex": [
       "$\\displaystyle \\left(\\begin{array}{rrr}\n",
       "1 & 2 & 3 \\\\\n",
       "4 & 5 & 6 \\\\\n",
       "7 & 8 & 9\n",
       "\\end{array}\\right)$"
      ],
      "text/plain": [
       "[1 2 3]\n",
       "[4 5 6]\n",
       "[7 8 9]"
      ]
     },
     "metadata": {},
     "output_type": "display_data"
    }
   ],
   "source": [
    "# przykład działania funkcji list_split()\n",
    "lista = [1, 2, 3, 4, 5, 6, 7, 8, 9]\n",
    "print(list_split(lista))\n",
    "\n",
    "# tak ta funkcja jest napisana, żeby \"wpasować się\" w składnię SageMath\n",
    "macierz = matrix(list_split(lista)) \n",
    "show(macierz)"
   ]
  },
  {
   "cell_type": "code",
   "execution_count": 4,
   "id": "ed3cbefa",
   "metadata": {},
   "outputs": [],
   "source": [
    "from sage.numerical.interactive_simplex_method import *\n",
    "\n",
    "def game_value_and_strategy(payoff_matrix):\n",
    "    m, n = payoff_matrix.dimensions()\n",
    "    A = matrix(QQ, m + 1, n + 1)\n",
    "    A[0:m, 0:n] = payoff_matrix.transpose() # transponujemy macierz, żeby zachować perspektywę gracza wierszowego\n",
    "    A[0:m, n] = -1\n",
    "    A[m, 0:n] = 1\n",
    "    A[m, n] = 0\n",
    "    \n",
    "    b = vector(QQ, m + 1)\n",
    "    b[m] = 1\n",
    "    c = vector(QQ, n + 1)\n",
    "    c[n] = 1\n",
    "    \n",
    "    x_names = [\"x\" + str(i+1) for i in range(n)] + [\"x\" + str(n+1)]\n",
    "    constraint_type = [\">=\" for _ in range(m)] + [\"==\"]\n",
    "    variable_type = [\">=\" for _ in range(n)] + [\"\"] # zmiana względem wersji pierwotnej\n",
    "    \n",
    "    P = InteractiveLPProblem(A, b, c, x_names, constraint_type=constraint_type, variable_type=variable_type)\n",
    "    \n",
    "    \n",
    "    optimal_solution = P.optimal_solution()\n",
    "    objective_value = c * vector(optimal_solution)\n",
    "    \n",
    "    return objective_value, optimal_solution"
   ]
  },
  {
   "cell_type": "code",
   "execution_count": 5,
   "id": "04b804e2",
   "metadata": {},
   "outputs": [],
   "source": [
    "def game_size_k(k: int, f: dict, N: int):\n",
    "    \"\"\"\n",
    "     za k przyjmujemy rozmiar gry -- to znaczy moc zbioru kart w mojej ręcę czy ręcę przeciwnika;\n",
    "     f będzie słownikiem, do którego będziemy zapisywać wartości gier mniejszych rozmiarów,\n",
    "     by wykorzystać je do dalszych obliczeń;\n",
    "     N to liczba kart, którą będziemy grać -- np. gdy N = 3, to oznacza, że gramy Asem, dwójką i trójką.\n",
    "     \"\"\"\n",
    "    \n",
    "    if k < 0:\n",
    "        return 0\n",
    "    \n",
    "    elif k == 1:\n",
    "        for A in combinations(range(1, N+1), k):\n",
    "            for B in combinations(range(1, N+1), k):\n",
    "                for C in combinations(range(1, N+1), k):\n",
    "                    a = A[0]\n",
    "                    b = B[0]\n",
    "                    c = C[0]\n",
    "                    if a > b:\n",
    "                        f[A, B, C] = c\n",
    "                    elif a < b:\n",
    "                        f[A, B, C] = -c\n",
    "                    else:\n",
    "                        f[A, B, C] = 0\n",
    "    \n",
    "    else: \n",
    "        for A in combinations(range(1, N+1), k):\n",
    "            for B in combinations(range(1, N+1), k):\n",
    "                for C in combinations(range(1, N+1), k):\n",
    "                    sub_sums = 0\n",
    "                    for c in C:\n",
    "                        # gra z wyłożoną kartą c\n",
    "                        payoff_listed = [] # używamy listy zamiast słownika -- jakie to ma korzyści? \n",
    "                        for a in A:\n",
    "                            for b in B:\n",
    "                                if a > b:\n",
    "                                    p = c\n",
    "                                elif a < b: \n",
    "                                    p = -c\n",
    "                                else:\n",
    "                                    p = 0\n",
    "                                    \n",
    "                                As = tuple(sorted(set(A) - {a}))\n",
    "                                Bs = tuple(sorted(set(B) - {b}))\n",
    "                                Cs = tuple(sorted(set(C) - {c}))\n",
    "                                payoff_listed.append(p + f[As, Bs, Cs])\n",
    "                                \n",
    "                        # tworzymy macierz sage wykorzystując naszą funkcję list_split\n",
    "                        payoff_matrix = matrix(list_split(payoff_listed))\n",
    "                        print(f'Przy A: {A}, B: {B}, C: {C} i wyłożonej karcie: {c} wartość gry to {round(float(game_value_and_strategy(payoff_matrix)[0]), 4)}.')\n",
    "                        \n",
    "                        # zamieniamy obiekt vector klasy sage na listę, by móc wypisać strategię\n",
    "                        strategies = list(game_value_and_strategy(payoff_matrix)[1][:-1]) \n",
    "                        print(f'Optymalna strategia gracza pierwszego: {list(map(lambda x: round(float(x), 4), strategies))}')\n",
    "                        \n",
    "                        # sumujemy wartości gier po c z C\n",
    "                        sub_sums += round(float(game_value_and_strategy(payoff_matrix)[0]), 4) \n",
    "                        print(\"\\n\")\n",
    "                    f[A, B, C] = round((1 / len(C))*sub_sums, 4)\n",
    "                    print(f'Wartość oczekiwana dla gry  {f[A, B, C]}.')\n",
    "                    print(\"\\n\")"
   ]
  },
  {
   "cell_type": "code",
   "execution_count": 6,
   "id": "ffa35c0c",
   "metadata": {},
   "outputs": [],
   "source": [
    "f = dict()\n",
    "\n",
    "N = 6"
   ]
  },
  {
   "cell_type": "code",
   "execution_count": 8,
   "id": "b70ab7d1",
   "metadata": {},
   "outputs": [],
   "source": [
    "game_size_k(1, f, N)\n",
    "game_size_k(2, f, N)\n",
    "game_size_k(3, f, N)\n",
    "game_size_k(4, f, N)\n",
    "game_size_k(5, f, N)"
   ]
  },
  {
   "cell_type": "code",
   "execution_count": 13,
   "id": "ef63267a",
   "metadata": {},
   "outputs": [
    {
     "name": "stdout",
     "output_type": "stream",
     "text": [
      "Przy A: (1, 2, 3, 4, 5, 6), B: (1, 2, 3, 4, 5, 6), C: (1, 2, 3, 4, 5, 6) i wyłożonej karcie: 1 wartość gry to 0.0.\n",
      "Optymalna strategia gracza pierwszego: [0.165, 0.5774, 0.2576, 0.0, 0.0, 0.0]\n",
      "\n",
      "\n",
      "Przy A: (1, 2, 3, 4, 5, 6), B: (1, 2, 3, 4, 5, 6), C: (1, 2, 3, 4, 5, 6) i wyłożonej karcie: 2 wartość gry to 0.0.\n",
      "Optymalna strategia gracza pierwszego: [0.0, 0.3253, 0.1814, 0.4933, 0.0, 0.0]\n",
      "\n",
      "\n",
      "Przy A: (1, 2, 3, 4, 5, 6), B: (1, 2, 3, 4, 5, 6), C: (1, 2, 3, 4, 5, 6) i wyłożonej karcie: 3 wartość gry to 0.0.\n",
      "Optymalna strategia gracza pierwszego: [0.0655, 0.1314, 0.17, 0.2907, 0.3424, 0.0]\n",
      "\n",
      "\n",
      "Przy A: (1, 2, 3, 4, 5, 6), B: (1, 2, 3, 4, 5, 6), C: (1, 2, 3, 4, 5, 6) i wyłożonej karcie: 4 wartość gry to 0.0.\n",
      "Optymalna strategia gracza pierwszego: [0.098, 0.0458, 0.1734, 0.0, 0.6081, 0.0746]\n",
      "\n",
      "\n",
      "Przy A: (1, 2, 3, 4, 5, 6), B: (1, 2, 3, 4, 5, 6), C: (1, 2, 3, 4, 5, 6) i wyłożonej karcie: 5 wartość gry to 0.0.\n",
      "Optymalna strategia gracza pierwszego: [0.0273, 0.0865, 0.0, 0.3461, 0.0202, 0.52]\n",
      "\n",
      "\n",
      "Przy A: (1, 2, 3, 4, 5, 6), B: (1, 2, 3, 4, 5, 6), C: (1, 2, 3, 4, 5, 6) i wyłożonej karcie: 6 wartość gry to 0.0.\n",
      "Optymalna strategia gracza pierwszego: [0.0, 0.1383, 0.0062, 0.0, 0.0, 0.8554]\n",
      "\n",
      "\n",
      "Wartość oczekiwana dla gry  0.0.\n",
      "\n",
      "\n"
     ]
    }
   ],
   "source": [
    "game_size_k(6, f, N)"
   ]
  },
  {
   "cell_type": "markdown",
   "id": "2e7c3ca9",
   "metadata": {},
   "source": [
    "Otrzymane strategie doskonale odpowiadają temu, co przedstawione jest na stronie http://gcrhoads.byethost4.com/gops.html?i=2"
   ]
  },
  {
   "cell_type": "markdown",
   "id": "9d97665b",
   "metadata": {},
   "source": [
    "## Napotkane problemy\n",
    "\n",
    "1. Trudność z implementacją funkcji game_size_k(). Były to problemy natury programistycznej; na samym początku trudno było wybrać odpowiednie podejście do tego, jak zbierać odpowiednie dane i przekazywać je do problemu liniowego. Zdecydowaliśmy korzystać z modułu *InteractiveLPProblem*, co wymagało podania macierzy problemu z góry. Jednak ten problem został rozwiązany poprzez napisanie odpowiedniej funkcji pomocniczej. \n",
    "\n",
    "2. Nieprawidłowe sformułowanie problemu liniowego. Podczas pierwszych prób wyświetlał się błąd, który sugerował, że funkcja licząca problem liniowy nie znajduje żadnego rozwiązania optymalnego. Okazało się, że wynikało to z faktu, że niewłaściwie ograniczyliśmy zmienne problemu. Dodawana zmienna x_n+1, która miała być tą maksymalizowaną w problemie, była ustalana na większą lub równą zero, co w sposób oczywisty w wielu przypadkach dawało sprzeczność całego układu. Usunięcie tego ograniczenia rozwiązało problem. \n",
    "\n",
    "3. Niewłaściwie rzutowanie obiektu klasy Sage. Przy pierwszych obliczeniach łatwo było zauważyć, że obliczenia optymalnej strategii bardzo znacząco odbiegały od tego, co można było zobaczyć w tabeli na stronie. Okazało się, że nieumyślnie rzutowałem obiekt klasy *Sage* (w szczególności: wektor optymalnych strategii i wartość gry) na *Integer*. Wymagana była drobna poprawka -- wystarczyło rzutować na float z dokładnością do 4 miejsc po przecinku, by uzyskać niezbędne rezultaty. "
   ]
  },
  {
   "cell_type": "code",
   "execution_count": null,
   "id": "a39c1ea3",
   "metadata": {},
   "outputs": [],
   "source": []
  }
 ],
 "metadata": {
  "kernelspec": {
   "display_name": "SageMath 9.6",
   "language": "sage",
   "name": "sagemath"
  },
  "language_info": {
   "codemirror_mode": {
    "name": "ipython",
    "version": 3
   },
   "file_extension": ".py",
   "mimetype": "text/x-python",
   "name": "python",
   "nbconvert_exporter": "python",
   "pygments_lexer": "ipython3",
   "version": "3.9.13"
  }
 },
 "nbformat": 4,
 "nbformat_minor": 5
}
